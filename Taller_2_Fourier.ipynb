{
  "nbformat": 4,
  "nbformat_minor": 0,
  "metadata": {
    "colab": {
      "provenance": [],
      "authorship_tag": "ABX9TyPbP2T1IKt7WcdGHmV6HA4U",
      "include_colab_link": true
    },
    "kernelspec": {
      "name": "python3",
      "display_name": "Python 3"
    },
    "language_info": {
      "name": "python"
    }
  },
  "cells": [
    {
      "cell_type": "markdown",
      "metadata": {
        "id": "view-in-github",
        "colab_type": "text"
      },
      "source": [
        "<a href=\"https://colab.research.google.com/github/Enzo1193/S-S/blob/main/Taller_2_Fourier.ipynb\" target=\"_parent\"><img src=\"https://colab.research.google.com/assets/colab-badge.svg\" alt=\"Open In Colab\"/></a>"
      ]
    },
    {
      "cell_type": "markdown",
      "source": [
        "#Serie de Fourier\n",
        "\n",
        "La serie de Fourier descompone una señal periódica en una suma infinita de senos y cosenos (forma trigonométrica) o en exponentes complejos (forma exponencial). Solo es aplicable a señales periódicas.\n",
        "\n",
        "## 1. Forma Trigonométrica:\n",
        "\n",
        "Representa la señal como una suma de términos $anCos(nw₀t)+bnSen(nw₀t)$, donde $an$ y $bn$ son coeficientes calculados a partir de la señal.\n",
        "\n",
        "## 2. Forma Exponencial:\n",
        "Usa una representación basada en exponentes complejos $cne^{j n \\omega_0 t}$, donde $cn$ son los coeficientes complejos.\n",
        "\n",
        "## 3. Forma compacta:\n",
        "Una combinación de las formas trigonometricas y exponencial, utilizada para simplificar la notación.\n",
        "\n",
        "## 4. Espectro:\n",
        "Es discreto porque solo se calculan los coeficientes $cn$ en múltiplos de la frecuencia fundamental.\n",
        ""
      ],
      "metadata": {
        "id": "4sHImVJ4KOe4"
      }
    },
    {
      "cell_type": "markdown",
      "source": [
        "#Transformada de Fourier (TF)\n",
        "\n",
        "La transformada de Fourier es una extensión de la serie de Fourier que se aplica a señales no periódicas. Permite representar una señal como una superposición continua de senos y cosenos de diferentes frecuencias.\n",
        "\n",
        "##1. Señales en tiempo continuo:\n",
        "\n",
        "Para una señal $x(t)$, la transformada de Fourier se define como:\n",
        "\n",
        "$$ X(f) = \\int_{-\\infty}^{\\infty} x(t) e^{-j 2\\pi f t} \\, dt $$\n",
        "\n",
        "Su espectro es continuo.\n",
        "\n",
        "##2. Señales en tiempo discreto (DTFT):\n",
        "\n",
        "Para una señal discreta $x[n]$, su DTFT es:\n",
        "\n",
        "$$ X(\\omega) = \\sum_{n=-\\infty}^{\\infty} x[n] e^{-j \\omega n} $$\n",
        "\n",
        "El espectro es periódico y continuo.\n",
        "\n",
        "##3. Transformada Discreta de Fourier (DFT):\n",
        "\n",
        "Aproxima la DTFT utilizando un número finito de muestras $N$. Para una señal discreta $x[n]$ la DFT está dada por:\n",
        "\n",
        "$$ X[k] = \\sum_{n=0}^{N-1} x[n] e^{-j \\frac{2\\pi}{N} k n} $$\n",
        "\n",
        "Su espectro es discreto."
      ],
      "metadata": {
        "id": "PAT-iP1yQxKP"
      }
    },
    {
      "cell_type": "markdown",
      "source": [],
      "metadata": {
        "id": "LIHxQv4-SgTZ"
      }
    }
  ]
}